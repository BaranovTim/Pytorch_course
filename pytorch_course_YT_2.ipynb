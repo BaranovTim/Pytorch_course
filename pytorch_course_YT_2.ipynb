{
  "nbformat": 4,
  "nbformat_minor": 0,
  "metadata": {
    "colab": {
      "provenance": [],
      "authorship_tag": "ABX9TyMiKdpaOnXVj6BBA4NnOIyP",
      "include_colab_link": true
    },
    "kernelspec": {
      "name": "python3",
      "display_name": "Python 3"
    },
    "language_info": {
      "name": "python"
    }
  },
  "cells": [
    {
      "cell_type": "markdown",
      "metadata": {
        "id": "view-in-github",
        "colab_type": "text"
      },
      "source": [
        "<a href=\"https://colab.research.google.com/github/BaranovTim/Pytorch_course/blob/main/pytorch_course_YT_2.ipynb\" target=\"_parent\"><img src=\"https://colab.research.google.com/assets/colab-badge.svg\" alt=\"Open In Colab\"/></a>"
      ]
    },
    {
      "cell_type": "markdown",
      "source": [
        "### PyTorch WorkFlow"
      ],
      "metadata": {
        "id": "Pzy6PoRhrbD9"
      }
    },
    {
      "cell_type": "code",
      "source": [
        "import torch\n",
        "from torch import nn # nn contains all of Pytorch's building blocks for network\n",
        "import matplotlib.pyplot as plt\n",
        "\n",
        "torch.__version__"
      ],
      "metadata": {
        "colab": {
          "base_uri": "https://localhost:8080/",
          "height": 35
        },
        "id": "evc6PGHbrnwz",
        "outputId": "bf019eb0-9f0c-40ba-c9e2-9bbba47befa7"
      },
      "execution_count": null,
      "outputs": [
        {
          "output_type": "execute_result",
          "data": {
            "text/plain": [
              "'2.5.1+cu121'"
            ],
            "application/vnd.google.colaboratory.intrinsic+json": {
              "type": "string"
            }
          },
          "metadata": {},
          "execution_count": 1
        }
      ]
    },
    {
      "cell_type": "markdown",
      "source": [
        "Data (preparing and loading)\n",
        "\n",
        "Data can be almost anything... in ML.\n",
        "Excel, imgs, videos, audios, DNAs, text\n",
        "\n",
        "ML is a game of two parts:\n",
        "1. Get data into numerical representation\n",
        "2. Build a model to learn patterns in that numerical representation\n",
        "\n",
        "To showcase this, let's create some known data using the linear regression formuls (y = ax + b)\n"
      ],
      "metadata": {
        "id": "WjCItGycvxe2"
      }
    },
    {
      "cell_type": "code",
      "source": [
        "#known parameters\n",
        "weight = 0.7\n",
        "bias = 0.3\n",
        "\n",
        "#create\n",
        "start = 0\n",
        "end = 1\n",
        "step = 0.02\n",
        "X = torch.arange(start, end, step).unsqueeze(dim=1)\n",
        "y = weight * X + bias\n",
        "\n",
        "X[:10], y[:10], len(X), len(y)"
      ],
      "metadata": {
        "colab": {
          "base_uri": "https://localhost:8080/"
        },
        "id": "U3WInFnCwWpA",
        "outputId": "1f8f7c26-3810-40cb-e722-c71fefd0cb11"
      },
      "execution_count": null,
      "outputs": [
        {
          "output_type": "execute_result",
          "data": {
            "text/plain": [
              "(tensor([[0.0000],\n",
              "         [0.0200],\n",
              "         [0.0400],\n",
              "         [0.0600],\n",
              "         [0.0800],\n",
              "         [0.1000],\n",
              "         [0.1200],\n",
              "         [0.1400],\n",
              "         [0.1600],\n",
              "         [0.1800]]),\n",
              " tensor([[0.3000],\n",
              "         [0.3140],\n",
              "         [0.3280],\n",
              "         [0.3420],\n",
              "         [0.3560],\n",
              "         [0.3700],\n",
              "         [0.3840],\n",
              "         [0.3980],\n",
              "         [0.4120],\n",
              "         [0.4260]]),\n",
              " 50,\n",
              " 50)"
            ]
          },
          "metadata": {},
          "execution_count": 2
        }
      ]
    },
    {
      "cell_type": "markdown",
      "source": [
        "### Splitting data into training and test sets (one of the most important concepts in ML in general)\n",
        "\n",
        "Let's create a training and test set with our data"
      ],
      "metadata": {
        "id": "9wT7Q2X-x3St"
      }
    },
    {
      "cell_type": "code",
      "source": [
        "train_split = int(0.8 * len(X))\n",
        "train_split\n",
        "\n",
        "X_train, y_train = X[:train_split], y[:train_split] # training первых 80%\n",
        "X_test, y_test = X[train_split:], y[train_split:] # training оставшихся\n",
        "\n",
        "len(X_train), len(y_train), len(X_test), len(y_test)"
      ],
      "metadata": {
        "colab": {
          "base_uri": "https://localhost:8080/"
        },
        "id": "LgtEtlgi3E9H",
        "outputId": "9fa354f1-f5aa-4828-a510-db4d7bf7b6a4"
      },
      "execution_count": null,
      "outputs": [
        {
          "output_type": "execute_result",
          "data": {
            "text/plain": [
              "(40, 40, 10, 10)"
            ]
          },
          "metadata": {},
          "execution_count": 3
        }
      ]
    },
    {
      "cell_type": "markdown",
      "source": [
        "How might we better visualize our data?\n",
        "\n",
        "This is where the data explorer's motto comes in"
      ],
      "metadata": {
        "id": "Z4VdxkOV3LIi"
      }
    },
    {
      "cell_type": "code",
      "source": [
        "def plot_predictions(train_data = X_train,\n",
        "                     train_labels = y_train,\n",
        "                     test_data = X_test,\n",
        "                     test_labels = y_test,\n",
        "                     predictions = None):\n",
        "  plt.figure(figsize=(10, 7))\n",
        "\n",
        "  # Plot training data in blue\n",
        "  plt.scatter(train_data, train_labels, c='b', s=4, label='Training data')\n",
        "\n",
        "  # Plot test data in green\n",
        "  plt.scatter(test_data, test_labels, c='g', s=15, label='Testing data')\n",
        "\n",
        "  # Are there predictions?\n",
        "  if predictions is not None:\n",
        "    # Plot them if they exist\n",
        "    plt.scatter(test_data, predictions, c='r', s=4, label='Predictions')\n",
        "\n",
        "  # Show the legend\n",
        "  plt.legend(prop={'size': 14});\n",
        "\n",
        "\n"
      ],
      "metadata": {
        "id": "UgOgG-oE4Vo3"
      },
      "execution_count": null,
      "outputs": []
    },
    {
      "cell_type": "code",
      "source": [
        "plot_predictions()"
      ],
      "metadata": {
        "colab": {
          "base_uri": "https://localhost:8080/",
          "height": 599
        },
        "id": "6INzcJLG6T4d",
        "outputId": "c097dba0-5a50-4899-a763-922731221a93"
      },
      "execution_count": null,
      "outputs": [
        {
          "output_type": "display_data",
          "data": {
            "text/plain": [
              "<Figure size 1000x700 with 1 Axes>"
            ],
            "image/png": "[encoded data removed]"
          },
          "metadata": {}
        }
      ]
    },
    {
      "cell_type": "markdown",
      "source": [
        "What our model does:\n",
        "* Start with random values (weight & bias)\n",
        "* Look at training data and adjust the random values to better represent (or get closer to) the ideal values (the weight & bias values we used to create the data)\n",
        "\n",
        "How does it do so?\n",
        "\n",
        "Through:\n",
        "1. Gradient descent\n",
        "2. Backpropagation"
      ],
      "metadata": {
        "id": "sptFZm2TKhLd"
      }
    },
    {
      "cell_type": "code",
      "source": [
        "from torch import nn\n",
        "# Building model\n",
        "#create linear regression model class\n",
        "\n",
        "class LinearRegressionModel(nn.Module): # <- almost everything in Pytorch inherits from nn.Module\n",
        "  def __init__(self):\n",
        "    super().__init__()\n",
        "    self.weights = nn.Parameter(torch.randn(1, requires_grad=True, dtype=torch.float))\n",
        "    self.bias = nn.Parameter(torch.randn(1, dtype=torch.float))\n",
        "\n",
        "    # forward method to define the computation in the model\n",
        "  def forward(self, x: torch.Tensor) -> torch.Tensor: # 'x' is the input data\n",
        "    return self.weights * x + self.bias\n"
      ],
      "metadata": {
        "id": "KjRolhBD6i-z"
      },
      "execution_count": null,
      "outputs": []
    },
    {
      "cell_type": "markdown",
      "source": [
        "### PyTorch model building essentials\n",
        "\n",
        "* torch.nn - contains all of the buildings for computational graphs (a neural network can be considered a computational graph)\n",
        "* torch.nn.Parameter - what parameters should our model try and learn, often a PyTorch layer from torch.nn will set these for us\n",
        "* torch.nn.Module - The base class for all neural network modules, if you subclass it, you should overwrite forward()\n",
        "* torch.optim - this where the optimizers in PyTorch live, they will help with gradient descent\n",
        "* def forward() - All nn.Module subclasses require you to overwrite forward(), this method defines what happens in the forward computation\n"
      ],
      "metadata": {
        "id": "iyKY3H32W8jH"
      }
    },
    {
      "cell_type": "code",
      "source": [
        "torch.rand(1)"
      ],
      "metadata": {
        "colab": {
          "base_uri": "https://localhost:8080/"
        },
        "id": "oPh5qu63Z45q",
        "outputId": "6fa5ded6-1f1d-4b0f-863a-10f97f53efee"
      },
      "execution_count": null,
      "outputs": [
        {
          "output_type": "execute_result",
          "data": {
            "text/plain": [
              "tensor([0.7928])"
            ]
          },
          "metadata": {},
          "execution_count": 7
        }
      ]
    },
    {
      "cell_type": "markdown",
      "source": [
        "### Checking the contents of our pytorch model\n",
        "\n",
        "We have created a model, let's see what is inside..\n",
        "\n",
        "We can check our model parameters or what is inside using .parameters()\n"
      ],
      "metadata": {
        "id": "4sunlOqyW-Oe"
      }
    },
    {
      "cell_type": "code",
      "source": [
        "torch.manual_seed(42)\n",
        "\n",
        "#instance of the model\n",
        "model_0 = LinearRegressionModel()\n",
        "\n",
        "#check out parameters\n",
        "list(model_0.parameters())"
      ],
      "metadata": {
        "colab": {
          "base_uri": "https://localhost:8080/"
        },
        "id": "0IOcH5fXZbMv",
        "outputId": "a3010e3d-6a79-4ff8-b620-e3413f58e39b"
      },
      "execution_count": null,
      "outputs": [
        {
          "output_type": "execute_result",
          "data": {
            "text/plain": [
              "[Parameter containing:\n",
              " tensor([0.3367], requires_grad=True),\n",
              " Parameter containing:\n",
              " tensor([0.1288], requires_grad=True)]"
            ]
          },
          "metadata": {},
          "execution_count": 8
        }
      ]
    },
    {
      "cell_type": "markdown",
      "source": [
        "### Making predictions using torch.inference_mode()\n",
        "\n",
        "To check our model's predictive power, let's see how well it predicts 'y_test' based on 'X_test'\n",
        "\n",
        "When we pass data through our model, it is going to run it through the forward() method."
      ],
      "metadata": {
        "id": "6cYyfKhuZyjt"
      }
    },
    {
      "cell_type": "code",
      "source": [
        "#Make predictions with model\n",
        "with torch.inference_mode():\n",
        "  y_preds = model_0(X_test)\n",
        "\n",
        "y_preds"
      ],
      "metadata": {
        "colab": {
          "base_uri": "https://localhost:8080/"
        },
        "id": "bPAmsZlLbkQg",
        "outputId": "26c86a1d-20f4-4d3a-ef17-55d2a06cae59"
      },
      "execution_count": null,
      "outputs": [
        {
          "output_type": "execute_result",
          "data": {
            "text/plain": [
              "tensor([[0.3982],\n",
              "        [0.4049],\n",
              "        [0.4116],\n",
              "        [0.4184],\n",
              "        [0.4251],\n",
              "        [0.4318],\n",
              "        [0.4386],\n",
              "        [0.4453],\n",
              "        [0.4520],\n",
              "        [0.4588]])"
            ]
          },
          "metadata": {},
          "execution_count": 9
        }
      ]
    },
    {
      "cell_type": "code",
      "source": [
        "plot_predictions(predictions=y_preds)"
      ],
      "metadata": {
        "colab": {
          "base_uri": "https://localhost:8080/",
          "height": 599
        },
        "id": "zWlrBvwgc82T",
        "outputId": "58294f8f-e8cb-4035-ef30-951b6852c75a"
      },
      "execution_count": null,
      "outputs": [
        {
          "output_type": "display_data",
          "data": {
            "text/plain": [
              "<Figure size 1000x700 with 1 Axes>"
            ],
            "image/png": "[encoded data removed]"
          },
          "metadata": {}
        }
      ]
    },
    {
      "cell_type": "markdown",
      "source": [
        "## 3. Train model\n",
        "\n",
        "The whole idea of training is for a model to move from some unknown parameters (these maybe random) to some known parameters\n",
        "\n",
        "Or in other words from a por representation of the data to a better representation of the data\n",
        "\n",
        "One way to measure how poor ur predictions are, is to use the loss function.\n",
        "\n",
        "Loss functions may also be called cost functions or criterion in different areas. For our case, we're going to call it a loss function.\n",
        "\n",
        "* *Loss function*: A function to measure how wrong ur model's predictions are to the ideal outputs, lower is better.\n",
        "\n",
        "* *Optimizer*: Takes into account the loss of a model and adjust the models's parameters (e.g. weight and bias) to improve the loss function.\n",
        "\n",
        "And specifically for Pytorch we need:\n",
        "\n",
        "* A training loop\n",
        "* A testing loop\n"
      ],
      "metadata": {
        "id": "qp28Rl6CeO5X"
      }
    },
    {
      "cell_type": "code",
      "source": [
        "#loss func\n",
        "loss_fn = nn.L1Loss()\n",
        "\n",
        "#optimizer\n",
        "optimizer = torch.optim.SGD(params = model_0.parameters(), lr=0.001) # lr - learning rate(most important)"
      ],
      "metadata": {
        "id": "1bB42Pr-hQNu"
      },
      "execution_count": null,
      "outputs": []
    },
    {
      "cell_type": "markdown",
      "source": [
        "значение lr показывает меняет ли оно одну десятую или сотую, мб тысячную в наших прогнозах чтобы приблизиться к истинному значению\n",
        "\n"
      ],
      "metadata": {
        "id": "o8fiTAqtlSr4"
      }
    },
    {
      "cell_type": "code",
      "source": [
        "loss_fn"
      ],
      "metadata": {
        "colab": {
          "base_uri": "https://localhost:8080/"
        },
        "id": "Fh7_T21FjSL6",
        "outputId": "71454635-f9a1-43d5-89d6-bdbd27dc69db"
      },
      "execution_count": null,
      "outputs": [
        {
          "output_type": "execute_result",
          "data": {
            "text/plain": [
              "L1Loss()"
            ]
          },
          "metadata": {},
          "execution_count": 12
        }
      ]
    },
    {
      "cell_type": "code",
      "source": [],
      "metadata": {
        "id": "o8_60hoCjTxk"
      },
      "execution_count": null,
      "outputs": []
    },
    {
      "cell_type": "markdown",
      "source": [
        "### Building a training loop (and testing loop)\n",
        "\n",
        "A couple of things we need in a training loop:\n",
        "\n",
        "0. Loop through the data\n",
        "1. Forward pass (this involves data moving through our model's forward() functions) to make predictions on data - also called forward propagation\n",
        "2. Calculate the loss (compare forward pass predictions to ground truth labels)\n",
        "3. Optimizer zero grad\n",
        "4. Loss backwards - moe backwards through the network to calculate the gradients of each of the parameters of our model with respect to the loss (**backpropagation**)\n",
        "5. Optimizer step - use the optimizer to adjust our model's parameters to try and improve the loss (**gradient descent**)\n"
      ],
      "metadata": {
        "id": "3O_Gb23bmi4f"
      }
    },
    {
      "cell_type": "code",
      "source": [
        "torch.manual_seed(42)\n",
        "\n",
        "# An epoch is one loop through the data.. (we have set it ourselves)\n",
        "epochs = 50\n",
        "\n",
        "#Loop through the data\n",
        "for epoch in range(epochs):\n",
        "  #Set the model to training mode\n",
        "  model_0.train() # train mode in PyTorch sets all parameters that require gradients to require gradients\n",
        "\n",
        "  # 1. Forward pass\n",
        "  y_pred = model_0(X_train)\n",
        "\n",
        "  # 2. Calculate the loss\n",
        "  loss = loss_fn(y_pred, y_train)\n",
        "  print(f'Loss: {loss}')\n",
        "\n",
        "  # 3. Optimizer zero grad\n",
        "  optimizer.zero_grad()\n",
        "\n",
        "  # 4. Perform backpropagation on the loss with respect to the parameters of the model\n",
        "  loss.backward()\n",
        "\n",
        "  # 5. Step the optimizer (perform gradient descent)\n",
        "  optimizer.step()  #by default how the optimizer changes will accumulate through the loop so..\n",
        "                    #we have to zero them above in step 3 for the next iteration of the loop\n",
        "\n",
        "  # Testing\n",
        "  model_0.eval() # turns off different settings in the model not needed for evaluation/testing\n",
        "  with torch.inference_mode(): # turn off gradient tracking and a couple more things behind the scenes\n",
        "    #Do the forward pass\n",
        "    test_pred = model_0(X_test)\n",
        "\n",
        "    #Calculate the loss\n",
        "    test_loss = loss_fn(test_pred, y_test)\n",
        "\n",
        "  #print out what is happening\n",
        "  if epoch % 10 == 0:\n",
        "    print(f'Epoch: {epoch} | Test: {loss} | Test loss: {test_loss}')\n",
        "    print(model_0.state_dict())\n"
      ],
      "metadata": {
        "colab": {
          "base_uri": "https://localhost:8080/"
        },
        "id": "y1OW6cfgoPWT",
        "outputId": "3a4e06c3-3302-43fb-dcb7-32aac3b00276"
      },
      "execution_count": null,
      "outputs": [
        {
          "output_type": "stream",
          "name": "stdout",
          "text": [
            "Loss: 0.000547530478797853\n",
            "Epoch: 0 | Test: 0.000547530478797853 | Test loss: 0.0009484231704846025\n",
            "OrderedDict([('weights', tensor([0.6993])), ('bias', tensor([0.2997]))])\n",
            "Loss: 0.0006045512855052948\n",
            "Loss: 0.000547530478797853\n",
            "Loss: 0.0006045512855052948\n",
            "Loss: 0.000547530478797853\n",
            "Loss: 0.0006045512855052948\n",
            "Loss: 0.000547530478797853\n",
            "Loss: 0.0006045512855052948\n",
            "Loss: 0.000547530478797853\n",
            "Loss: 0.0006045512855052948\n",
            "Loss: 0.000547530478797853\n",
            "Epoch: 10 | Test: 0.000547530478797853 | Test loss: 0.0009484231704846025\n",
            "OrderedDict([('weights', tensor([0.6993])), ('bias', tensor([0.2997]))])\n",
            "Loss: 0.0006045512855052948\n",
            "Loss: 0.000547530478797853\n",
            "Loss: 0.0006045512855052948\n",
            "Loss: 0.000547530478797853\n",
            "Loss: 0.0006045512855052948\n",
            "Loss: 0.000547530478797853\n",
            "Loss: 0.0006045512855052948\n",
            "Loss: 0.000547530478797853\n",
            "Loss: 0.0006045512855052948\n",
            "Loss: 0.000547530478797853\n",
            "Epoch: 20 | Test: 0.000547530478797853 | Test loss: 0.0009484231704846025\n",
            "OrderedDict([('weights', tensor([0.6993])), ('bias', tensor([0.2997]))])\n",
            "Loss: 0.0006045512855052948\n",
            "Loss: 0.000547530478797853\n",
            "Loss: 0.0006045512855052948\n",
            "Loss: 0.000547530478797853\n",
            "Loss: 0.0006045512855052948\n",
            "Loss: 0.000547530478797853\n",
            "Loss: 0.0006045512855052948\n",
            "Loss: 0.000547530478797853\n",
            "Loss: 0.0006045512855052948\n",
            "Loss: 0.000547530478797853\n",
            "Epoch: 30 | Test: 0.000547530478797853 | Test loss: 0.0009484231704846025\n",
            "OrderedDict([('weights', tensor([0.6993])), ('bias', tensor([0.2997]))])\n",
            "Loss: 0.0006045512855052948\n",
            "Loss: 0.000547530478797853\n",
            "Loss: 0.0006045512855052948\n",
            "Loss: 0.000547530478797853\n",
            "Loss: 0.0006045512855052948\n",
            "Loss: 0.000547530478797853\n",
            "Loss: 0.0006045512855052948\n",
            "Loss: 0.000547530478797853\n",
            "Loss: 0.0006045512855052948\n",
            "Loss: 0.000547530478797853\n",
            "Epoch: 40 | Test: 0.000547530478797853 | Test loss: 0.0009484231704846025\n",
            "OrderedDict([('weights', tensor([0.6993])), ('bias', tensor([0.2997]))])\n",
            "Loss: 0.0006045512855052948\n",
            "Loss: 0.000547530478797853\n",
            "Loss: 0.0006045512855052948\n",
            "Loss: 0.000547530478797853\n",
            "Loss: 0.0006045512855052948\n",
            "Loss: 0.000547530478797853\n",
            "Loss: 0.0006045512855052948\n",
            "Loss: 0.000547530478797853\n",
            "Loss: 0.0006045512855052948\n"
          ]
        }
      ]
    },
    {
      "cell_type": "code",
      "source": [],
      "metadata": {
        "id": "uQo9DiLBJFTY"
      },
      "execution_count": null,
      "outputs": []
    },
    {
      "cell_type": "code",
      "source": [
        "with torch.inference_mode():\n",
        "  y_preds_new = model_0(X_test)"
      ],
      "metadata": {
        "id": "QVRHJqNv8xHD"
      },
      "execution_count": null,
      "outputs": []
    },
    {
      "cell_type": "code",
      "source": [
        "plot_predictions(predictions=test_pred)"
      ],
      "metadata": {
        "colab": {
          "base_uri": "https://localhost:8080/",
          "height": 599
        },
        "id": "n49kPqPD9X_T",
        "outputId": "901ac7c4-110e-47e2-b43f-a52ebf81ba9a"
      },
      "execution_count": null,
      "outputs": [
        {
          "output_type": "display_data",
          "data": {
            "text/plain": [
              "<Figure size 1000x700 with 1 Axes>"
            ],
            "image/png": "[encoded data removed]"
          },
          "metadata": {}
        }
      ]
    },
    {
      "cell_type": "markdown",
      "source": [
        "##Saving a model in PyTorch\n",
        "\n",
        "There are 3 main mothods for saving and loading models in Pytorch\n",
        "\n",
        "1. torch.save() - allows u to save an object in Python's pickle format\n",
        "2. torch.load() - allows you to load a saved object\n",
        "3. torch.nn.Module.load_state_dict() - this allows u to load models saved state dictionary"
      ],
      "metadata": {
        "id": "fgrQ0bah9dDj"
      }
    },
    {
      "cell_type": "code",
      "source": [
        "model_0.state_dict()"
      ],
      "metadata": {
        "colab": {
          "base_uri": "https://localhost:8080/"
        },
        "id": "2Enm9yvwyMCC",
        "outputId": "1710e3f2-52dd-417b-e291-63c660f1a713"
      },
      "execution_count": null,
      "outputs": [
        {
          "output_type": "execute_result",
          "data": {
            "text/plain": [
              "OrderedDict([('weights', tensor([0.6997])), ('bias', tensor([0.3007]))])"
            ]
          },
          "metadata": {},
          "execution_count": 111
        }
      ]
    },
    {
      "cell_type": "code",
      "source": [
        "#saving our Pytoch model\n",
        "\n",
        "from pathlib import Path\n",
        "\n",
        "#1. create model directory\n",
        "\n",
        "MODEL_PATH = Path(\"models\")\n",
        "MODEL_PATH.mkdir(parents=True, exist_ok=True)\n",
        "\n",
        "#2. Create model save path\n",
        "MODEL_NAME = '01_pytorch_workflow_model_0.pth'\n",
        "MODEL_SAVE_PATH = MODEL_PATH / MODEL_NAME\n",
        "\n",
        "MODEL_SAVE_PATH\n",
        "\n",
        "#3. Save the model state dict\n",
        "\n",
        "print(f'Saving model to:{MODEL_SAVE_PATH}')\n",
        "torch.save(model_0.state_dict(), MODEL_SAVE_PATH)"
      ],
      "metadata": {
        "colab": {
          "base_uri": "https://localhost:8080/"
        },
        "id": "wvdL15eRy1a0",
        "outputId": "a65fe405-3120-48b3-9401-f3679d1772d0"
      },
      "execution_count": null,
      "outputs": [
        {
          "output_type": "stream",
          "name": "stdout",
          "text": [
            "Saving model to:models/01_pytorch_workflow_model_0.pth\n"
          ]
        }
      ]
    },
    {
      "cell_type": "code",
      "source": [
        "!ls -l models"
      ],
      "metadata": {
        "colab": {
          "base_uri": "https://localhost:8080/"
        },
        "id": "uUx_0DHX1EYF",
        "outputId": "8b72e812-0ec7-4912-a77b-e9ce4e4055a7"
      },
      "execution_count": null,
      "outputs": [
        {
          "output_type": "stream",
          "name": "stdout",
          "text": [
            "total 4\n",
            "-rw-r--r-- 1 root root 2320 Jan  3 01:44 01_pytorch_workflow_model_0.pth\n"
          ]
        }
      ]
    },
    {
      "cell_type": "markdown",
      "source": [
        "## Loading a Pytorch model\n",
        "\n",
        "Since we saved our model's 'state_dict()' rather the entire model, we'll create a new instance of our model class and load the saved 'state_dict()' into that."
      ],
      "metadata": {
        "id": "6BLbBHjn1sGI"
      }
    },
    {
      "cell_type": "code",
      "source": [
        "import torch\n",
        "from torch import nn\n",
        "# To load in a saved state_dict we have to instantiate a new instance of our model class\n",
        "loaded_model_0 = LinearRegressionModel()\n",
        "\n",
        "#Load the saved state_dict of model_0 (this will update a new instance with updated parameters)\n",
        "loaded_model_0.load_state_dict(torch.load(f=MODEL_SAVE_PATH))"
      ],
      "metadata": {
        "colab": {
          "base_uri": "https://localhost:8080/"
        },
        "id": "Cd9Vn-Jw2fJy",
        "outputId": "c4dafe57-fe72-49d5-af0f-b650cef22867"
      },
      "execution_count": null,
      "outputs": [
        {
          "output_type": "stream",
          "name": "stderr",
          "text": [
            "<ipython-input-122-f20e6dce5488>:7: FutureWarning: You are using `torch.load` with `weights_only=False` (the current default value), which uses the default pickle module implicitly. It is possible to construct malicious pickle data which will execute arbitrary code during unpickling (See https://github.com/pytorch/pytorch/blob/main/SECURITY.md#untrusted-models for more details). In a future release, the default value for `weights_only` will be flipped to `True`. This limits the functions that could be executed during unpickling. Arbitrary objects will no longer be allowed to be loaded via this mode unless they are explicitly allowlisted by the user via `torch.serialization.add_safe_globals`. We recommend you start setting `weights_only=True` for any use case where you don't have full control of the loaded file. Please open an issue on GitHub for any issues related to this experimental feature.\n",
            "  loaded_model_0.load_state_dict(torch.load(f=MODEL_SAVE_PATH))\n"
          ]
        },
        {
          "output_type": "execute_result",
          "data": {
            "text/plain": [
              "<All keys matched successfully>"
            ]
          },
          "metadata": {},
          "execution_count": 122
        }
      ]
    },
    {
      "cell_type": "code",
      "source": [
        "loaded_model_0.state_dict()"
      ],
      "metadata": {
        "colab": {
          "base_uri": "https://localhost:8080/"
        },
        "id": "htz0tF_44ZSH",
        "outputId": "1a537602-c35f-4b6f-f842-8cbeaafae5a7"
      },
      "execution_count": null,
      "outputs": [
        {
          "output_type": "execute_result",
          "data": {
            "text/plain": [
              "OrderedDict([('weights', tensor([0.6997])), ('bias', tensor([0.3007]))])"
            ]
          },
          "metadata": {},
          "execution_count": 123
        }
      ]
    },
    {
      "cell_type": "code",
      "source": [
        "loaded_model_0.eval()\n",
        "with torch.inference_mode():\n",
        "  loaded_model_preds = loaded_model_0(X_test)\n",
        "\n",
        "loaded_model_preds"
      ],
      "metadata": {
        "colab": {
          "base_uri": "https://localhost:8080/"
        },
        "id": "90dCvUGe3MTN",
        "outputId": "476156d8-2756-40e6-98a3-45ba403f1392"
      },
      "execution_count": null,
      "outputs": [
        {
          "output_type": "execute_result",
          "data": {
            "text/plain": [
              "tensor([[0.8604],\n",
              "        [0.8744],\n",
              "        [0.8884],\n",
              "        [0.9024],\n",
              "        [0.9164],\n",
              "        [0.9304],\n",
              "        [0.9444],\n",
              "        [0.9584],\n",
              "        [0.9724],\n",
              "        [0.9864]])"
            ]
          },
          "metadata": {},
          "execution_count": 125
        }
      ]
    },
    {
      "cell_type": "code",
      "source": [
        "# Make some models preds\n",
        "\n",
        "model_0.eval()\n",
        "with torch.inference_mode():\n",
        "  y_preds = model_0(X_test)\n",
        "\n",
        "y_preds"
      ],
      "metadata": {
        "colab": {
          "base_uri": "https://localhost:8080/"
        },
        "id": "7uKLRjJS4ws-",
        "outputId": "857158f7-5727-4c42-be43-077157f2d9f3"
      },
      "execution_count": null,
      "outputs": [
        {
          "output_type": "execute_result",
          "data": {
            "text/plain": [
              "tensor([[0.8604],\n",
              "        [0.8744],\n",
              "        [0.8884],\n",
              "        [0.9024],\n",
              "        [0.9164],\n",
              "        [0.9304],\n",
              "        [0.9444],\n",
              "        [0.9584],\n",
              "        [0.9724],\n",
              "        [0.9864]])"
            ]
          },
          "metadata": {},
          "execution_count": 127
        }
      ]
    },
    {
      "cell_type": "code",
      "source": [
        "#Compare loaded model preds with original model preds\n",
        "y_preds == loaded_model_preds"
      ],
      "metadata": {
        "colab": {
          "base_uri": "https://localhost:8080/"
        },
        "id": "TdKric1t5Dh2",
        "outputId": "0a425228-913c-4ddf-9553-71edd88b52cd"
      },
      "execution_count": null,
      "outputs": [
        {
          "output_type": "execute_result",
          "data": {
            "text/plain": [
              "tensor([[True],\n",
              "        [True],\n",
              "        [True],\n",
              "        [True],\n",
              "        [True],\n",
              "        [True],\n",
              "        [True],\n",
              "        [True],\n",
              "        [True],\n",
              "        [True]])"
            ]
          },
          "metadata": {},
          "execution_count": 128
        }
      ]
    },
    {
      "cell_type": "markdown",
      "source": [
        "## 6. Putting it all together\n",
        "\n",
        "Let's go through the steps above and see it all in one place\n",
        "\n"
      ],
      "metadata": {
        "id": "bkAZWaX35F_e"
      }
    },
    {
      "cell_type": "markdown",
      "source": [
        "Create device-agnostic code.\n",
        "This means if we have got access to a GPU, our code will use it (for potentially faster computing)\n",
        "\n",
        "If no GPU is available, the code will default to using CPU"
      ],
      "metadata": {
        "id": "d9IVF-PU6rja"
      }
    },
    {
      "cell_type": "code",
      "source": [
        "# 1. Imports\n",
        "import torch\n",
        "from torch import nn\n",
        "import matplotlib.pyplot as plt\n",
        "from pathlib import Path\n",
        "\n",
        "\n",
        "#Setup device agnostic code\n",
        "device = 'cuda' if torch.cuda.is_available() else 'cpu' #'cuda' is nvidia's gpu\n",
        "print(f'Using device: {device}')\n",
        "\n",
        "#Create some data using the linear regression formula of y=ax+b\n",
        "\n",
        "weight = 0.7\n",
        "bias = 0.3\n",
        "\n",
        "#Create range values\n",
        "start = 0\n",
        "end = 1\n",
        "step = 0.02\n",
        "\n",
        "#Create X and y\n",
        "X = torch.arange(start,end,step).unsqueeze(dim=1) # without unsqueeze, errors will pop up\n",
        "y = weight * X + bias\n",
        "\n",
        "#split data\n",
        "train_split = int(0.8 * len(X))\n",
        "X_train, y_train = X[:train_split], y[:train_split]\n",
        "X_test, y_test = X[train_split:], y[train_split:]\n",
        "\n",
        "#plot the data\n",
        "\n",
        "def plot_predictions(train_data = X_train,\n",
        "                     train_labels = y_train,\n",
        "                     test_data = X_test,\n",
        "                     test_labels = y_test,\n",
        "                     predictions = None):\n",
        "  plt.figure(figsize=(10, 7))\n",
        "\n",
        "  # Plot training data in blue\n",
        "  plt.scatter(train_data, train_labels, c='b', s=4, label='Training data')\n",
        "\n",
        "  # Plot test data in green\n",
        "  plt.scatter(test_data, test_labels, c='g', s=15, label='Testing data')\n",
        "\n",
        "  # Are there predictions?\n",
        "  if predictions is not None:\n",
        "    # Plot them if they exist\n",
        "    plt.scatter(test_data, predictions, c='r', s=4, label='Predictions')\n",
        "\n",
        "  # Show the legend\n",
        "  plt.legend(prop={'size': 14});\n",
        "\n",
        "\n",
        "#Building a Linear model\n",
        "#create it by subclassing nn.Module\n",
        "class LinearRegressionModelV2(nn.Module):\n",
        "  def __init__(self):\n",
        "    super().__init__()\n",
        "    #Use nn.Linear() for creating model params\n",
        "    self.linear_layer = nn.Linear(in_features=1, #одно значение x\n",
        "                                  out_features=1) #к одному значению y\n",
        "\n",
        "  def forward(self, x: torch.Tensor) -> torch.Tensor : # вот этот код означает что x должен быть torch.Tensor и функция должна вернуть также torch.Tensor\n",
        "    return self.linear_layer(x)\n",
        "\n",
        "#set the seed\n",
        "torch.manual_seed(42)\n",
        "\n",
        "#making a model\n",
        "model_1 = LinearRegressionModelV2()\n",
        "\n",
        "#set the model to use the target device\n",
        "model_1.to(device)\n",
        "\n",
        "\n",
        "#Training\n",
        "\n",
        "#Setup the loss func\n",
        "loss_func = nn.L1Loss() # same as MAE\n",
        "\n",
        "#Setup the optimizer\n",
        "optimizer = torch.optim.SGD(params = model_1.parameters(),\n",
        "                            lr=0.01)\n",
        "\n",
        "#Training loop\n",
        "epochs = 200\n",
        "\n",
        "#Put data on a target device\n",
        "X_train = X_train.to(device)\n",
        "y_train = y_train.to(device)\n",
        "X_test = X_test.to(device)\n",
        "y_test = y_test.to(device)\n",
        "\n",
        "\n",
        "for epoch in range(epochs):\n",
        "  model_1.train()\n",
        "\n",
        "  #1. Forward pass\n",
        "  y_pred = model_1(X_train)\n",
        "\n",
        "  #2. Calculate the loss\n",
        "  loss = loss_func(y_pred, y_train)\n",
        "\n",
        "  #3. Optimizer zero grad\n",
        "  optimizer.zero_grad()\n",
        "\n",
        "  #4. Perforn backpropagation\n",
        "  loss.backward()\n",
        "\n",
        "  #5. Optimizer step\n",
        "  optimizer.step()\n",
        "\n",
        "  # Testing\n",
        "\n",
        "  model_1.eval()\n",
        "  with torch.inference_mode():\n",
        "    test_pred = model_1(X_test)\n",
        "\n",
        "  test_loss = loss_func(test_pred, y_test)\n",
        "\n",
        "  #Print out what is happening\n",
        "  if epoch % 10 == 0:\n",
        "    print(f'Epoch: {epoch} | Test: {loss} | Test loss: {test_loss}')\n",
        "    print(model_0.state_dict())\n",
        "\n",
        "#Making and evaluating predictions\n",
        "\n",
        "#Turn model into evaluation mode\n",
        "model_1.eval()\n",
        "\n",
        "#Make predictions on the test data\n",
        "with torch.inference_mode():\n",
        "  y_preds = model_1(X_test)\n",
        "\n",
        "#On graph\n",
        "plot_predictions(predictions=y_preds.cpu())\n",
        "\n",
        "\n",
        "\n",
        "#Saving and training a model\n",
        "\n",
        "#1. create model directory\n",
        "\n",
        "MODEL_PATH = Path(\"models\")\n",
        "MODEL_PATH.mkdir(parents=True, exist_ok=True)\n",
        "\n",
        "#2. Create model save path\n",
        "MODEL_NAME = '01_pytorch_workflow_model_1.pth'\n",
        "MODEL_SAVE_PATH = MODEL_PATH / MODEL_NAME\n",
        "\n",
        "MODEL_SAVE_PATH\n",
        "\n",
        "#3. Save the model state dict\n",
        "\n",
        "print(f'Saving model to:{MODEL_SAVE_PATH}')\n",
        "torch.save(model_1.state_dict(), MODEL_SAVE_PATH)\n",
        "\n",
        "\n",
        "#loading it\n",
        "\n",
        "#To load in a saved state_dict we have to create a new instance of our model class\n",
        "loaded_model_1 = LinearRegressionModelV2()\n",
        "\n",
        "#Load the saved state_dict of model_1 (this will update a new instance with updated parameters)\n",
        "loaded_model_1.load_state_dict(torch.load(MODEL_SAVE_PATH))\n",
        "\n",
        "#Put the loaded model to the device\n",
        "loaded_model_1.to(device)\n",
        "\n",
        "\n",
        "#Evaluate loaded model\n",
        "loaded_model_1.eval()\n",
        "with torch.inference_mode():\n",
        "  loaded_model_1_preds = loaded_model_1(X_test)\n",
        "y_preds == loaded_model_1_preds"
      ],
      "metadata": {
        "colab": {
          "base_uri": "https://localhost:8080/",
          "height": 1000
        },
        "id": "LrG_KGyP7o_v",
        "outputId": "df86d171-6d59-4658-ea0f-f55b37dc4b85"
      },
      "execution_count": null,
      "outputs": [
        {
          "output_type": "stream",
          "name": "stdout",
          "text": [
            "Using device: cpu\n",
            "Epoch: 0 | Test: 0.5551779866218567 | Test loss: 0.5739762187004089\n",
            "OrderedDict([('weights', tensor([0.6997])), ('bias', tensor([0.3007]))])\n",
            "Epoch: 10 | Test: 0.4399680495262146 | Test loss: 0.4392663538455963\n",
            "OrderedDict([('weights', tensor([0.6997])), ('bias', tensor([0.3007]))])\n",
            "Epoch: 20 | Test: 0.3247582018375397 | Test loss: 0.30455657839775085\n",
            "OrderedDict([('weights', tensor([0.6997])), ('bias', tensor([0.3007]))])\n",
            "Epoch: 30 | Test: 0.20954827964305878 | Test loss: 0.16984674334526062\n",
            "OrderedDict([('weights', tensor([0.6997])), ('bias', tensor([0.3007]))])\n",
            "Epoch: 40 | Test: 0.09433844685554504 | Test loss: 0.03513689711689949\n",
            "OrderedDict([('weights', tensor([0.6997])), ('bias', tensor([0.3007]))])\n",
            "Epoch: 50 | Test: 0.023886386305093765 | Test loss: 0.04784906655550003\n",
            "OrderedDict([('weights', tensor([0.6997])), ('bias', tensor([0.3007]))])\n",
            "Epoch: 60 | Test: 0.0199567973613739 | Test loss: 0.04580312222242355\n",
            "OrderedDict([('weights', tensor([0.6997])), ('bias', tensor([0.3007]))])\n",
            "Epoch: 70 | Test: 0.016517987474799156 | Test loss: 0.0375305712223053\n",
            "OrderedDict([('weights', tensor([0.6997])), ('bias', tensor([0.3007]))])\n",
            "Epoch: 80 | Test: 0.013089170679450035 | Test loss: 0.029944902285933495\n",
            "OrderedDict([('weights', tensor([0.6997])), ('bias', tensor([0.3007]))])\n",
            "Epoch: 90 | Test: 0.009653178043663502 | Test loss: 0.02167237363755703\n",
            "OrderedDict([('weights', tensor([0.6997])), ('bias', tensor([0.3007]))])\n",
            "Epoch: 100 | Test: 0.006215679459273815 | Test loss: 0.014086711220443249\n",
            "OrderedDict([('weights', tensor([0.6997])), ('bias', tensor([0.3007]))])\n",
            "Epoch: 110 | Test: 0.002787243574857712 | Test loss: 0.005814164876937866\n",
            "OrderedDict([('weights', tensor([0.6997])), ('bias', tensor([0.3007]))])\n",
            "Epoch: 120 | Test: 0.0012645035749301314 | Test loss: 0.013801807537674904\n",
            "OrderedDict([('weights', tensor([0.6997])), ('bias', tensor([0.3007]))])\n",
            "Epoch: 130 | Test: 0.0012645035749301314 | Test loss: 0.013801807537674904\n",
            "OrderedDict([('weights', tensor([0.6997])), ('bias', tensor([0.3007]))])\n",
            "Epoch: 140 | Test: 0.0012645035749301314 | Test loss: 0.013801807537674904\n",
            "OrderedDict([('weights', tensor([0.6997])), ('bias', tensor([0.3007]))])\n",
            "Epoch: 150 | Test: 0.0012645035749301314 | Test loss: 0.013801807537674904\n",
            "OrderedDict([('weights', tensor([0.6997])), ('bias', tensor([0.3007]))])\n",
            "Epoch: 160 | Test: 0.0012645035749301314 | Test loss: 0.013801807537674904\n",
            "OrderedDict([('weights', tensor([0.6997])), ('bias', tensor([0.3007]))])\n",
            "Epoch: 170 | Test: 0.0012645035749301314 | Test loss: 0.013801807537674904\n",
            "OrderedDict([('weights', tensor([0.6997])), ('bias', tensor([0.3007]))])\n",
            "Epoch: 180 | Test: 0.0012645035749301314 | Test loss: 0.013801807537674904\n",
            "OrderedDict([('weights', tensor([0.6997])), ('bias', tensor([0.3007]))])\n",
            "Epoch: 190 | Test: 0.0012645035749301314 | Test loss: 0.013801807537674904\n",
            "OrderedDict([('weights', tensor([0.6997])), ('bias', tensor([0.3007]))])\n",
            "Saving model to:models/01_pytorch_workflow_model_1.pth\n"
          ]
        },
        {
          "output_type": "stream",
          "name": "stderr",
          "text": [
            "<ipython-input-137-873b4717316a>:166: FutureWarning: You are using `torch.load` with `weights_only=False` (the current default value), which uses the default pickle module implicitly. It is possible to construct malicious pickle data which will execute arbitrary code during unpickling (See https://github.com/pytorch/pytorch/blob/main/SECURITY.md#untrusted-models for more details). In a future release, the default value for `weights_only` will be flipped to `True`. This limits the functions that could be executed during unpickling. Arbitrary objects will no longer be allowed to be loaded via this mode unless they are explicitly allowlisted by the user via `torch.serialization.add_safe_globals`. We recommend you start setting `weights_only=True` for any use case where you don't have full control of the loaded file. Please open an issue on GitHub for any issues related to this experimental feature.\n",
            "  loaded_model_1.load_state_dict(torch.load(MODEL_SAVE_PATH))\n"
          ]
        },
        {
          "output_type": "execute_result",
          "data": {
            "text/plain": [
              "tensor([[True],\n",
              "        [True],\n",
              "        [True],\n",
              "        [True],\n",
              "        [True],\n",
              "        [True],\n",
              "        [True],\n",
              "        [True],\n",
              "        [True],\n",
              "        [True]])"
            ]
          },
          "metadata": {},
          "execution_count": 137
        },
        {
          "output_type": "display_data",
          "data": {
            "text/plain": [
              "<Figure size 1000x700 with 1 Axes>"
            ],
            "image/png": "[encoded data removed]"
          },
          "metadata": {}
        }
      ]
    },
    {
      "cell_type": "code",
      "source": [],
      "metadata": {
        "id": "plCn2DHHCLP9"
      },
      "execution_count": null,
      "outputs": []
    }
  ]
}