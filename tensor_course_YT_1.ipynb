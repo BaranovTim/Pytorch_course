{
  "nbformat": 4,
  "nbformat_minor": 0,
  "metadata": {
    "colab": {
      "provenance": [],
      "gpuType": "T4",
      "authorship_tag": "ABX9TyMoONbfGREyGtuXtqbXwNJR",
      "include_colab_link": true
    },
    "kernelspec": {
      "name": "python3",
      "display_name": "Python 3"
    },
    "language_info": {
      "name": "python"
    },
    "accelerator": "GPU"
  },
  "cells": [
    {
      "cell_type": "markdown",
      "metadata": {
        "id": "view-in-github",
        "colab_type": "text"
      },
      "source": [
        "<a href=\"https://colab.research.google.com/github/BaranovTim/Pytorch_course/blob/main/tensor_course_YT_1.ipynb\" target=\"_parent\"><img src=\"https://colab.research.google.com/assets/colab-badge.svg\" alt=\"Open In Colab\"/></a>"
      ]
    },
    {
      "cell_type": "code",
      "execution_count": null,
      "metadata": {
        "colab": {
          "base_uri": "https://localhost:8080/"
        },
        "id": "KWqbYbHx_DBs",
        "outputId": "5ed667cd-fae6-4285-ffb8-be884a7cd9c9"
      },
      "outputs": [
        {
          "output_type": "stream",
          "name": "stdout",
          "text": [
            "2.5.1+cu121\n"
          ]
        }
      ],
      "source": [
        "import torch\n",
        "import pandas as pd\n",
        "import numpy as np\n",
        "import matplotlib.pyplot as pit\n",
        "\n",
        "print(torch.__version__)"
      ]
    },
    {
      "cell_type": "code",
      "source": [
        "scalar = torch.tensor(7)\n",
        "print(scalar)\n",
        "\n",
        "#get as an int\n",
        "scalar.item()"
      ],
      "metadata": {
        "colab": {
          "base_uri": "https://localhost:8080/"
        },
        "id": "Aaur1pyW_iYm",
        "outputId": "867f43fb-bdbb-4402-b17b-7ae987628205"
      },
      "execution_count": null,
      "outputs": [
        {
          "output_type": "stream",
          "name": "stdout",
          "text": [
            "tensor(7)\n"
          ]
        },
        {
          "output_type": "execute_result",
          "data": {
            "text/plain": [
              "7"
            ]
          },
          "metadata": {},
          "execution_count": 3
        }
      ]
    },
    {
      "cell_type": "code",
      "source": [
        "#vector\n",
        "vector = torch.tensor([7, 7])\n",
        "print(vector)"
      ],
      "metadata": {
        "colab": {
          "base_uri": "https://localhost:8080/"
        },
        "id": "L5NwT6SbCzLb",
        "outputId": "3d6144b8-2bd3-4a6c-9f9e-b98da4aae94c"
      },
      "execution_count": null,
      "outputs": [
        {
          "output_type": "stream",
          "name": "stdout",
          "text": [
            "tensor([7, 7])\n"
          ]
        }
      ]
    },
    {
      "cell_type": "code",
      "source": [
        "#matrix\n",
        "matrix = torch.tensor([[7, 8],\n",
        "                      [9, 10 ]])\n",
        "matrix\n",
        "\n",
        "matrix.ndim\n",
        "\n",
        "matrix[0]\n",
        "\n",
        "matrix.shape"
      ],
      "metadata": {
        "colab": {
          "base_uri": "https://localhost:8080/"
        },
        "id": "oYApGfrcC0hB",
        "outputId": "ebe3d1e3-7fec-442b-eadd-32e11fc63961"
      },
      "execution_count": null,
      "outputs": [
        {
          "output_type": "execute_result",
          "data": {
            "text/plain": [
              "torch.Size([2, 2])"
            ]
          },
          "metadata": {},
          "execution_count": 8
        }
      ]
    },
    {
      "cell_type": "code",
      "source": [
        "#tensor\n",
        "tensor = torch.tensor([[[1,2,3],\n",
        "                        [4,5,6],\n",
        "                        [7,8,9]]])\n",
        "\n",
        "tensor.ndim\n",
        "\n",
        "tensor.shape\n",
        "\n",
        "tensor[0][1][1]"
      ],
      "metadata": {
        "colab": {
          "base_uri": "https://localhost:8080/"
        },
        "id": "-XFArm1wEo5V",
        "outputId": "4ae41130-c561-4bd6-cba2-9b38a7572c5d"
      },
      "execution_count": null,
      "outputs": [
        {
          "output_type": "execute_result",
          "data": {
            "text/plain": [
              "tensor(5)"
            ]
          },
          "metadata": {},
          "execution_count": 4
        }
      ]
    },
    {
      "cell_type": "code",
      "source": [
        "tensor_1 = torch.tensor([ [[1,2,3],[1,2,3],[1,2,3]],\n",
        "                          [[0,9,8],[0,9,8],[0,9,8]],\n",
        "                          [[5,6,7],[5,6,7],[5,6,7]]])\n",
        "tensor_1.shape\n",
        "tensor.ndim\n",
        "tensor_1[0]"
      ],
      "metadata": {
        "colab": {
          "base_uri": "https://localhost:8080/"
        },
        "id": "Ai60ipW-F45s",
        "outputId": "ab9ccd5b-4ac8-40a4-a686-1f1ca5534cbe"
      },
      "execution_count": null,
      "outputs": [
        {
          "output_type": "execute_result",
          "data": {
            "text/plain": [
              "tensor([[1, 2, 3],\n",
              "        [1, 2, 3],\n",
              "        [1, 2, 3]])"
            ]
          },
          "metadata": {},
          "execution_count": 16
        }
      ]
    },
    {
      "cell_type": "code",
      "source": [
        "# random tensors\n",
        "\n",
        "#they are important because the way neural networks learn is that they start with tensors full\n",
        "#of random numbers and then adjust(регулируют) those random numbers to better represent the data\n",
        "\n",
        "# start with random numbers -> look at data -> update random numbers -> look at rand num -> update\n",
        "\n",
        "\n",
        "#create a random tensor of size(shape) (3, 4)\n",
        "\n",
        "random_tensor = torch.rand(3, 4)\n",
        "print(random_tensor)\n",
        "\n",
        "random_tensor.ndim"
      ],
      "metadata": {
        "colab": {
          "base_uri": "https://localhost:8080/"
        },
        "id": "Ib8vnObMHcdI",
        "outputId": "0938aa05-ebf9-49a1-d7ce-6e3a64ff25f5"
      },
      "execution_count": null,
      "outputs": [
        {
          "output_type": "stream",
          "name": "stdout",
          "text": [
            "tensor([[0.5766, 0.9979, 0.4028, 0.5352],\n",
            "        [0.4490, 0.9587, 0.2358, 0.6220],\n",
            "        [0.5584, 0.9565, 0.6695, 0.4231]])\n"
          ]
        },
        {
          "output_type": "execute_result",
          "data": {
            "text/plain": [
              "2"
            ]
          },
          "metadata": {},
          "execution_count": 20
        }
      ]
    },
    {
      "cell_type": "code",
      "source": [
        "# random tensor with similar size to an image tensor\n",
        "\n",
        "random_img_size_tensor = torch.rand(size=(224,224,3)) # height, width, colour\n",
        "random_img_size_tensor.shape, random_img_size_tensor.ndim"
      ],
      "metadata": {
        "colab": {
          "base_uri": "https://localhost:8080/"
        },
        "id": "crjRBWrgJUDB",
        "outputId": "e6dafd49-51b6-4471-d4e6-5987518793fc"
      },
      "execution_count": null,
      "outputs": [
        {
          "output_type": "execute_result",
          "data": {
            "text/plain": [
              "(torch.Size([224, 224, 3]), 3)"
            ]
          },
          "metadata": {},
          "execution_count": 21
        }
      ]
    },
    {
      "cell_type": "code",
      "source": [
        "# tensor of zeros\n",
        "\n",
        "zeros = torch.zeros(3,4)\n",
        "zeros"
      ],
      "metadata": {
        "colab": {
          "base_uri": "https://localhost:8080/"
        },
        "id": "-HvPoUrlKYFE",
        "outputId": "eb63a472-bdfc-4496-d7bf-967dabf8a29f"
      },
      "execution_count": null,
      "outputs": [
        {
          "output_type": "execute_result",
          "data": {
            "text/plain": [
              "tensor([[0., 0., 0., 0.],\n",
              "        [0., 0., 0., 0.],\n",
              "        [0., 0., 0., 0.]])"
            ]
          },
          "metadata": {},
          "execution_count": 22
        }
      ]
    },
    {
      "cell_type": "code",
      "source": [
        "zeros*random_tensor"
      ],
      "metadata": {
        "colab": {
          "base_uri": "https://localhost:8080/"
        },
        "id": "0eli_BKNKkSe",
        "outputId": "a0e26ed2-8d2e-4424-d192-c3c83b17bad5"
      },
      "execution_count": null,
      "outputs": [
        {
          "output_type": "execute_result",
          "data": {
            "text/plain": [
              "tensor([[0., 0., 0., 0.],\n",
              "        [0., 0., 0., 0.],\n",
              "        [0., 0., 0., 0.]])"
            ]
          },
          "metadata": {},
          "execution_count": 23
        }
      ]
    },
    {
      "cell_type": "code",
      "source": [
        "#tensor of ones\n",
        "\n",
        "ones = torch.ones(3,4)\n",
        "ones"
      ],
      "metadata": {
        "colab": {
          "base_uri": "https://localhost:8080/"
        },
        "id": "KS8TZs2oKpel",
        "outputId": "27c50c50-79e7-4ca1-db7a-88b1585dc69f"
      },
      "execution_count": null,
      "outputs": [
        {
          "output_type": "execute_result",
          "data": {
            "text/plain": [
              "tensor([[1., 1., 1., 1.],\n",
              "        [1., 1., 1., 1.],\n",
              "        [1., 1., 1., 1.]])"
            ]
          },
          "metadata": {},
          "execution_count": 25
        }
      ]
    },
    {
      "cell_type": "code",
      "source": [
        "ones.dtype"
      ],
      "metadata": {
        "colab": {
          "base_uri": "https://localhost:8080/"
        },
        "id": "Vw508ym4K1A9",
        "outputId": "213b4750-73fd-4cb3-e972-59cabdeedd25"
      },
      "execution_count": null,
      "outputs": [
        {
          "output_type": "execute_result",
          "data": {
            "text/plain": [
              "torch.float32"
            ]
          },
          "metadata": {},
          "execution_count": 26
        }
      ]
    },
    {
      "cell_type": "code",
      "source": [
        "#a range of tensors and tensor-like\n",
        "\n",
        "one_to_ten = torch.arange(1,11)\n",
        "one_to_ten"
      ],
      "metadata": {
        "colab": {
          "base_uri": "https://localhost:8080/"
        },
        "id": "hwEhxplwLC-d",
        "outputId": "53695351-a8e9-4e1a-cec2-3be22391e1b1"
      },
      "execution_count": null,
      "outputs": [
        {
          "output_type": "execute_result",
          "data": {
            "text/plain": [
              "tensor([ 1,  2,  3,  4,  5,  6,  7,  8,  9, 10])"
            ]
          },
          "metadata": {},
          "execution_count": 36
        }
      ]
    },
    {
      "cell_type": "code",
      "source": [
        "range_with_steps = torch.arange(0,101, 5)\n",
        "range_with_steps"
      ],
      "metadata": {
        "colab": {
          "base_uri": "https://localhost:8080/"
        },
        "id": "MkJTdSEWLeHz",
        "outputId": "2207603b-11dd-45c2-fa14-e450bfb0f992"
      },
      "execution_count": null,
      "outputs": [
        {
          "output_type": "execute_result",
          "data": {
            "text/plain": [
              "tensor([  0,   5,  10,  15,  20,  25,  30,  35,  40,  45,  50,  55,  60,  65,\n",
              "         70,  75,  80,  85,  90,  95, 100])"
            ]
          },
          "metadata": {},
          "execution_count": 34
        }
      ]
    },
    {
      "cell_type": "code",
      "source": [
        "#creating tensors like - тензор на подобии уже существующего, где одинаков размер, но не данные\n",
        "\n",
        "ten_zeros = torch.zeros_like(one_to_ten)\n",
        "ten_zeros"
      ],
      "metadata": {
        "colab": {
          "base_uri": "https://localhost:8080/"
        },
        "id": "TvfC-CFELqoy",
        "outputId": "508162e4-ac25-4e0a-c9f7-832400418954"
      },
      "execution_count": null,
      "outputs": [
        {
          "output_type": "execute_result",
          "data": {
            "text/plain": [
              "tensor([0, 0, 0, 0, 0, 0, 0, 0, 0, 0])"
            ]
          },
          "metadata": {},
          "execution_count": 37
        }
      ]
    },
    {
      "cell_type": "code",
      "source": [
        "#tensor datatypes\n",
        "\n",
        "#float 32 tensor\n",
        "\n",
        "float_32_tensor = torch.tensor([3.0, 6.0, 9.0],\n",
        "                               dtype = None, #what datatype is the tensor eg(float32 or float16 etc)\n",
        "                               device = None, #what device if your tensor on, like cpu or gpu or cuda\n",
        "                               requires_grad= False) #whether or not to track gradients with these tensors operations\n",
        "float_32_tensor"
      ],
      "metadata": {
        "colab": {
          "base_uri": "https://localhost:8080/"
        },
        "id": "R7f3sXDrMgX6",
        "outputId": "27ab821a-9876-4519-cbce-de6daafe8baa"
      },
      "execution_count": null,
      "outputs": [
        {
          "output_type": "execute_result",
          "data": {
            "text/plain": [
              "tensor([3., 6., 9.])"
            ]
          },
          "metadata": {},
          "execution_count": 39
        }
      ]
    },
    {
      "cell_type": "code",
      "source": [
        "float_16_tensor = float_32_tensor.type(torch.float16)\n",
        "float_16_tensor.dtype"
      ],
      "metadata": {
        "colab": {
          "base_uri": "https://localhost:8080/"
        },
        "id": "UJrZRWYxQE-E",
        "outputId": "87ea6957-ae2b-4da8-9b04-e179a43936e3"
      },
      "execution_count": null,
      "outputs": [
        {
          "output_type": "execute_result",
          "data": {
            "text/plain": [
              "torch.float16"
            ]
          },
          "metadata": {},
          "execution_count": 40
        }
      ]
    },
    {
      "cell_type": "code",
      "source": [
        "float_what_type = float_16_tensor * float_32_tensor\n",
        "float_what_type.dtype #float32"
      ],
      "metadata": {
        "colab": {
          "base_uri": "https://localhost:8080/"
        },
        "id": "tkolIT13Qo8v",
        "outputId": "244871b9-35e0-4177-ddcf-ff01ba8c0e4d"
      },
      "execution_count": null,
      "outputs": [
        {
          "output_type": "execute_result",
          "data": {
            "text/plain": [
              "torch.float32"
            ]
          },
          "metadata": {},
          "execution_count": 41
        }
      ]
    },
    {
      "cell_type": "code",
      "source": [
        "tensor_01 = torch.tensor([1, 2, 3])\n",
        "tensor_01 + 10\n",
        "tensor_01 * 10\n",
        "tensor_01 - 10\n",
        "tensor_01 / 10\n",
        "\n",
        "#same thing but using built in functions\n",
        "torch.mul(tensor_01, 10)\n",
        "torch.add(tensor_01, 10)\n",
        "torch.sub(tensor_01, 10)\n",
        "torch.div(tensor_01, 10)\n",
        "\n",
        "#matrix multiplication\n",
        "#means first tensor's rows * second tensor's columns\n",
        "# so like [1,2,3],\n",
        "#         [4,5,6]\n",
        "#                 *\n",
        "#                   [7,8],\n",
        "#                   [9,10],\n",
        "#                   [11,12] = 1*7 + 2*9 + 3*11 = 58\n",
        "# and do it for each\n",
        "# the ans: [58, 64],\n",
        "#          [139, 154]\n",
        "\n",
        "print(tensor, '*', tensor)\n",
        "print(f\"Equals: {tensor * tensor}\")"
      ],
      "metadata": {
        "colab": {
          "base_uri": "https://localhost:8080/"
        },
        "id": "lzYhJXl-Q87A",
        "outputId": "1bd60543-1a98-4abf-fda9-2f7408206114"
      },
      "execution_count": null,
      "outputs": [
        {
          "output_type": "stream",
          "name": "stdout",
          "text": [
            "tensor([[[1, 2, 3],\n",
            "         [4, 5, 6],\n",
            "         [7, 8, 9]]]) * tensor([[[1, 2, 3],\n",
            "         [4, 5, 6],\n",
            "         [7, 8, 9]]])\n",
            "Equals: tensor([[[ 1,  4,  9],\n",
            "         [16, 25, 36],\n",
            "         [49, 64, 81]]])\n"
          ]
        }
      ]
    },
    {
      "cell_type": "code",
      "source": [
        "tensor_02 = torch.tensor([1,2,3])\n",
        "torch.matmul(tensor_02, tensor_02)\n"
      ],
      "metadata": {
        "id": "9owQZSiPdREv",
        "colab": {
          "base_uri": "https://localhost:8080/"
        },
        "outputId": "6174b9b0-5953-4ad7-dfb9-b4713f2958bd"
      },
      "execution_count": null,
      "outputs": [
        {
          "output_type": "execute_result",
          "data": {
            "text/plain": [
              "tensor(14)"
            ]
          },
          "metadata": {},
          "execution_count": 7
        }
      ]
    },
    {
      "cell_type": "code",
      "source": [
        "tensor_02 @ tensor_02"
      ],
      "metadata": {
        "colab": {
          "base_uri": "https://localhost:8080/"
        },
        "id": "75nsolaILMGS",
        "outputId": "b4cc474c-10d9-4927-89dd-0d83e01a8077"
      },
      "execution_count": null,
      "outputs": [
        {
          "output_type": "execute_result",
          "data": {
            "text/plain": [
              "tensor(14)"
            ]
          },
          "metadata": {},
          "execution_count": 9
        }
      ]
    },
    {
      "cell_type": "markdown",
      "source": [
        "### Rules\n",
        "\n",
        "\n",
        "1.   The inner dimensions must match:\n",
        "\n",
        "*   (3, 2) @ (3, 2) won't work\n",
        "*   (3, 2) @ (2, 3) will work\n",
        "*   (2, 3) @ (3, 2) will work\n",
        "        ^     ^\n",
        "        |     |\n",
        "    inner dimensions\n",
        "    \n",
        "\n",
        "2.   The resulting marix has the shape of the **outer dimensions**:\n",
        "*   (2, 3) @ (3, 2) -> (2, 2)\n",
        "*   (3, 2) @ (2, 3) -> (3, 3)\n",
        "\n"
      ],
      "metadata": {
        "id": "aUskX169Lvcf"
      }
    },
    {
      "cell_type": "code",
      "source": [
        "tensor_A = torch.tensor([[1, 2],\n",
        "                        [3, 4],\n",
        "                        [5, 6]])\n",
        "\n",
        "tensor_B = torch.tensor([[7, 10],\n",
        "                        [8, 11],\n",
        "                        [9, 12]])\n",
        "\n",
        "torch.mm(tensor_A, tensor_B) # tensor.mm = tensor.matmul = @\n"
      ],
      "metadata": {
        "colab": {
          "base_uri": "https://localhost:8080/",
          "height": 176
        },
        "id": "1kGy-8kzOXuY",
        "outputId": "c381032f-fe3c-4947-b5a8-d43baaab7e6a"
      },
      "execution_count": null,
      "outputs": [
        {
          "output_type": "error",
          "ename": "RuntimeError",
          "evalue": "mat1 and mat2 shapes cannot be multiplied (3x2 and 3x2)",
          "traceback": [
            "\u001b[0;31m---------------------------------------------------------------------------\u001b[0m",
            "\u001b[0;31mRuntimeError\u001b[0m                              Traceback (most recent call last)",
            "\u001b[0;32m<ipython-input-10-06ffecb6b145>\u001b[0m in \u001b[0;36m<cell line: 9>\u001b[0;34m()\u001b[0m\n\u001b[1;32m      7\u001b[0m                         [9, 12]])\n\u001b[1;32m      8\u001b[0m \u001b[0;34m\u001b[0m\u001b[0m\n\u001b[0;32m----> 9\u001b[0;31m \u001b[0mtorch\u001b[0m\u001b[0;34m.\u001b[0m\u001b[0mmm\u001b[0m\u001b[0;34m(\u001b[0m\u001b[0mtensor_A\u001b[0m\u001b[0;34m,\u001b[0m \u001b[0mtensor_B\u001b[0m\u001b[0;34m)\u001b[0m \u001b[0;31m# tensor.mm = tensor.matmul = @\u001b[0m\u001b[0;34m\u001b[0m\u001b[0;34m\u001b[0m\u001b[0m\n\u001b[0m",
            "\u001b[0;31mRuntimeError\u001b[0m: mat1 and mat2 shapes cannot be multiplied (3x2 and 3x2)"
          ]
        }
      ]
    },
    {
      "cell_type": "markdown",
      "source": [
        "To fix out tensor shape issues, we can manipulate the shape of one of our tensors using a **transpose**\n",
        "\n",
        "A transpose switches the axes or dimensions of a given tensor"
      ],
      "metadata": {
        "id": "S2oIgCdlPiGc"
      }
    },
    {
      "cell_type": "code",
      "source": [
        "tensor_B2 = tensor_B.T\n",
        "tensor_B2"
      ],
      "metadata": {
        "colab": {
          "base_uri": "https://localhost:8080/"
        },
        "id": "cepjXVQCPeAC",
        "outputId": "19d4a9ce-c218-4c05-d5ab-fc382b641561"
      },
      "execution_count": null,
      "outputs": [
        {
          "output_type": "execute_result",
          "data": {
            "text/plain": [
              "tensor([[ 7,  8,  9],\n",
              "        [10, 11, 12]])"
            ]
          },
          "metadata": {},
          "execution_count": 14
        }
      ]
    },
    {
      "cell_type": "code",
      "source": [
        "tensor_A @ tensor_B2"
      ],
      "metadata": {
        "colab": {
          "base_uri": "https://localhost:8080/"
        },
        "id": "uMx10Os7PymT",
        "outputId": "5b5c7392-2ad1-4207-ad97-40a3dc51272c"
      },
      "execution_count": null,
      "outputs": [
        {
          "output_type": "execute_result",
          "data": {
            "text/plain": [
              "tensor([[ 27,  30,  33],\n",
              "        [ 61,  68,  75],\n",
              "        [ 95, 106, 117]])"
            ]
          },
          "metadata": {},
          "execution_count": 16
        }
      ]
    },
    {
      "cell_type": "code",
      "source": [
        "# Finding min, max, mean, sum, etc\n",
        "\n",
        "x = torch.arange(0, 100, 10)\n",
        "x"
      ],
      "metadata": {
        "colab": {
          "base_uri": "https://localhost:8080/"
        },
        "id": "OmL1OIFvQNAt",
        "outputId": "0e5e7016-5bbf-4622-80d9-427d2dbfa8d5"
      },
      "execution_count": null,
      "outputs": [
        {
          "output_type": "execute_result",
          "data": {
            "text/plain": [
              "tensor([ 0, 10, 20, 30, 40, 50, 60, 70, 80, 90])"
            ]
          },
          "metadata": {},
          "execution_count": 20
        }
      ]
    },
    {
      "cell_type": "code",
      "source": [
        "torch.min(x), x.min()"
      ],
      "metadata": {
        "colab": {
          "base_uri": "https://localhost:8080/"
        },
        "id": "HmRDg0H4SaAL",
        "outputId": "91bdcbcd-0856-41f3-b987-5e42fb7a4e37"
      },
      "execution_count": null,
      "outputs": [
        {
          "output_type": "execute_result",
          "data": {
            "text/plain": [
              "(tensor(0), tensor(0))"
            ]
          },
          "metadata": {},
          "execution_count": 21
        }
      ]
    },
    {
      "cell_type": "code",
      "source": [
        "x.max()"
      ],
      "metadata": {
        "colab": {
          "base_uri": "https://localhost:8080/"
        },
        "id": "ElPGt9nYSgF9",
        "outputId": "82f12739-4127-4f40-e34e-f2af552f87a0"
      },
      "execution_count": null,
      "outputs": [
        {
          "output_type": "execute_result",
          "data": {
            "text/plain": [
              "tensor(90)"
            ]
          },
          "metadata": {},
          "execution_count": 22
        }
      ]
    },
    {
      "cell_type": "code",
      "source": [
        "torch.mean(x.type(torch.float32))"
      ],
      "metadata": {
        "colab": {
          "base_uri": "https://localhost:8080/"
        },
        "id": "O8kAuQ_ASnYx",
        "outputId": "2c0695fb-aaa5-4448-aa05-447fe8724fa9"
      },
      "execution_count": null,
      "outputs": [
        {
          "output_type": "execute_result",
          "data": {
            "text/plain": [
              "tensor(45.)"
            ]
          },
          "metadata": {},
          "execution_count": 24
        }
      ]
    },
    {
      "cell_type": "code",
      "source": [
        "x.sum()"
      ],
      "metadata": {
        "colab": {
          "base_uri": "https://localhost:8080/"
        },
        "id": "M4POxzeNTMaI",
        "outputId": "00806d0d-f57d-46ab-adc0-7e3df0c5913d"
      },
      "execution_count": null,
      "outputs": [
        {
          "output_type": "execute_result",
          "data": {
            "text/plain": [
              "tensor(450)"
            ]
          },
          "metadata": {},
          "execution_count": 26
        }
      ]
    },
    {
      "cell_type": "code",
      "source": [
        "max = x.max()\n",
        "a=0\n",
        "for i in x:\n",
        "  if i == max:\n",
        "    print(a)\n",
        "  a += 1"
      ],
      "metadata": {
        "colab": {
          "base_uri": "https://localhost:8080/"
        },
        "id": "bwftiGG9Tf02",
        "outputId": "45953729-9e0b-47c4-99b2-70c42aa29dba"
      },
      "execution_count": null,
      "outputs": [
        {
          "output_type": "stream",
          "name": "stdout",
          "text": [
            "9\n"
          ]
        }
      ]
    },
    {
      "cell_type": "code",
      "source": [
        "x.argmin() # index of a min number\n",
        "x.argmax() # index of a max number"
      ],
      "metadata": {
        "colab": {
          "base_uri": "https://localhost:8080/"
        },
        "id": "Q7QBpZ3OTzqG",
        "outputId": "4a73d0df-df2d-41b3-e599-a67b80915a21"
      },
      "execution_count": null,
      "outputs": [
        {
          "output_type": "execute_result",
          "data": {
            "text/plain": [
              "tensor(9)"
            ]
          },
          "metadata": {},
          "execution_count": 34
        }
      ]
    },
    {
      "cell_type": "code",
      "source": [
        "import torch\n",
        "x= torch.arange(1., 11.)\n",
        "x.shape, x"
      ],
      "metadata": {
        "colab": {
          "base_uri": "https://localhost:8080/"
        },
        "id": "Siz74qsVU-aj",
        "outputId": "3e49866f-e8f5-4473-b5f5-07634af0ef7a"
      },
      "execution_count": null,
      "outputs": [
        {
          "output_type": "execute_result",
          "data": {
            "text/plain": [
              "(torch.Size([10]), tensor([ 1.,  2.,  3.,  4.,  5.,  6.,  7.,  8.,  9., 10.]))"
            ]
          },
          "metadata": {},
          "execution_count": 49
        }
      ]
    },
    {
      "cell_type": "code",
      "source": [
        "#add an extra dimension\n",
        "x_reshaped = x.reshape(1, 10)\n",
        "x_reshaped"
      ],
      "metadata": {
        "colab": {
          "base_uri": "https://localhost:8080/"
        },
        "id": "wRKm-ostW91G",
        "outputId": "0c3e3b58-4cbb-4ece-de0f-e175468aebda"
      },
      "execution_count": null,
      "outputs": [
        {
          "output_type": "execute_result",
          "data": {
            "text/plain": [
              "tensor([[ 1.,  2.,  3.,  4.,  5.,  6.,  7.,  8.,  9., 10.]])"
            ]
          },
          "metadata": {},
          "execution_count": 39
        }
      ]
    },
    {
      "cell_type": "code",
      "source": [
        "x_reshaped_2 = x.reshape(2, 5)\n",
        "x_reshaped_2"
      ],
      "metadata": {
        "colab": {
          "base_uri": "https://localhost:8080/"
        },
        "id": "cT3EL_IMXISj",
        "outputId": "0264cc17-356b-41e0-bff3-d2450787a2f8"
      },
      "execution_count": null,
      "outputs": [
        {
          "output_type": "execute_result",
          "data": {
            "text/plain": [
              "tensor([[ 1.,  2.,  3.,  4.,  5.],\n",
              "        [ 6.,  7.,  8.,  9., 10.]])"
            ]
          },
          "metadata": {},
          "execution_count": 41
        }
      ]
    },
    {
      "cell_type": "code",
      "source": [
        "#change the view\n",
        "z = x.view(1, 10)\n",
        "z, z.shape"
      ],
      "metadata": {
        "colab": {
          "base_uri": "https://localhost:8080/"
        },
        "id": "cSDxhlH8X0l7",
        "outputId": "1910b651-7e2a-438d-feb3-7d85167515bb"
      },
      "execution_count": null,
      "outputs": [
        {
          "output_type": "execute_result",
          "data": {
            "text/plain": [
              "(tensor([[ 1.,  2.,  3.,  4.,  5.,  6.,  7.,  8.,  9., 10.]]),\n",
              " torch.Size([1, 10]))"
            ]
          },
          "metadata": {},
          "execution_count": 50
        }
      ]
    },
    {
      "cell_type": "code",
      "source": [
        "#view is the same as reshape, but if we change z, then x will also be changed\n",
        "# a view of a tensor shares the same memory as the original tensor\n",
        "z[:, 0] = 5\n",
        "z, x"
      ],
      "metadata": {
        "colab": {
          "base_uri": "https://localhost:8080/"
        },
        "id": "8Vixt-JTYwQb",
        "outputId": "68807cd4-7b8c-498e-9125-ac4c85f87b96"
      },
      "execution_count": null,
      "outputs": [
        {
          "output_type": "execute_result",
          "data": {
            "text/plain": [
              "(tensor([[ 5.,  2.,  3.,  4.,  5.,  6.,  7.,  8.,  9., 10.]]),\n",
              " tensor([ 5.,  2.,  3.,  4.,  5.,  6.,  7.,  8.,  9., 10.]))"
            ]
          },
          "metadata": {},
          "execution_count": 51
        }
      ]
    },
    {
      "cell_type": "code",
      "source": [
        "#stack tensors on top of each other\n",
        "x_stacked = torch.stack([x, x, x, x], dim=0)\n",
        "x_stacked, x_stacked.shape"
      ],
      "metadata": {
        "colab": {
          "base_uri": "https://localhost:8080/"
        },
        "id": "U-gewl14ZAsH",
        "outputId": "02ffd70e-3399-440e-b5f3-61d3a7fecb18"
      },
      "execution_count": null,
      "outputs": [
        {
          "output_type": "execute_result",
          "data": {
            "text/plain": [
              "(tensor([[ 5.,  2.,  3.,  4.,  5.,  6.,  7.,  8.,  9., 10.],\n",
              "         [ 5.,  2.,  3.,  4.,  5.,  6.,  7.,  8.,  9., 10.],\n",
              "         [ 5.,  2.,  3.,  4.,  5.,  6.,  7.,  8.,  9., 10.],\n",
              "         [ 5.,  2.,  3.,  4.,  5.,  6.,  7.,  8.,  9., 10.]]),\n",
              " torch.Size([4, 10]))"
            ]
          },
          "metadata": {},
          "execution_count": 56
        }
      ]
    },
    {
      "cell_type": "code",
      "source": [
        "x_squeezed = torch.squeeze(x)\n",
        "x_squeezed"
      ],
      "metadata": {
        "colab": {
          "base_uri": "https://localhost:8080/"
        },
        "id": "R6h1GPHgZ6S2",
        "outputId": "4738a2d8-ece4-4c52-82e0-561e7a6a5dec"
      },
      "execution_count": null,
      "outputs": [
        {
          "output_type": "execute_result",
          "data": {
            "text/plain": [
              "tensor([ 5.,  2.,  3.,  4.,  5.,  6.,  7.,  8.,  9., 10.])"
            ]
          },
          "metadata": {},
          "execution_count": 62
        }
      ]
    },
    {
      "cell_type": "code",
      "source": [
        "x_unsqueezed = torch.unsqueeze(x_squeezed, dim=0)\n",
        "x_unsqueezed"
      ],
      "metadata": {
        "colab": {
          "base_uri": "https://localhost:8080/"
        },
        "id": "COS7aOM7ahw7",
        "outputId": "e6a2e45a-fea8-4c2b-8881-1fd4f5f8a3d8"
      },
      "execution_count": null,
      "outputs": [
        {
          "output_type": "execute_result",
          "data": {
            "text/plain": [
              "tensor([[ 5.,  2.,  3.,  4.,  5.,  6.,  7.,  8.,  9., 10.]])"
            ]
          },
          "metadata": {},
          "execution_count": 63
        }
      ]
    },
    {
      "cell_type": "code",
      "source": [
        "x_orig = torch.rand(224, 224, 3) # height, width, colour channel\n",
        "x_permuted = x_orig.permute(2, 0, 1) # 0->1; 1->2; 2->0\n",
        "x_permuted, x_permuted.shape"
      ],
      "metadata": {
        "colab": {
          "base_uri": "https://localhost:8080/"
        },
        "id": "gi7PpRwVa2ME",
        "outputId": "2c08fbae-f689-47c7-ac83-db793615b224"
      },
      "execution_count": null,
      "outputs": [
        {
          "output_type": "execute_result",
          "data": {
            "text/plain": [
              "(tensor([[[0.8289, 0.5105, 0.9454,  ..., 0.7461, 0.0401, 0.8820],\n",
              "          [0.7607, 0.1645, 0.6808,  ..., 0.0100, 0.5319, 0.8366],\n",
              "          [0.2227, 0.7526, 0.3135,  ..., 0.2808, 0.4184, 0.2801],\n",
              "          ...,\n",
              "          [0.0995, 0.2445, 0.7068,  ..., 0.3997, 0.9916, 0.4727],\n",
              "          [0.8694, 0.5074, 0.0445,  ..., 0.7041, 0.2844, 0.3210],\n",
              "          [0.7728, 0.6853, 0.9105,  ..., 0.7127, 0.2787, 0.6416]],\n",
              " \n",
              "         [[0.0816, 0.8373, 0.2359,  ..., 0.0613, 0.2925, 0.0438],\n",
              "          [0.7254, 0.9698, 0.4405,  ..., 0.9416, 0.7456, 0.4099],\n",
              "          [0.1499, 0.5395, 0.5685,  ..., 0.4174, 0.8419, 0.6475],\n",
              "          ...,\n",
              "          [0.9209, 0.0142, 0.2338,  ..., 0.6027, 0.6664, 0.3484],\n",
              "          [0.6010, 0.7448, 0.9414,  ..., 0.0580, 0.8746, 0.2336],\n",
              "          [0.4218, 0.6469, 0.5326,  ..., 0.5669, 0.2069, 0.1029]],\n",
              " \n",
              "         [[0.9596, 0.9051, 0.3467,  ..., 0.7899, 0.5427, 0.0059],\n",
              "          [0.3777, 0.2164, 0.1960,  ..., 0.6305, 0.5428, 0.7211],\n",
              "          [0.5087, 0.7175, 0.3548,  ..., 0.6616, 0.5264, 0.0111],\n",
              "          ...,\n",
              "          [0.8646, 0.1276, 0.5217,  ..., 0.1155, 0.8016, 0.6594],\n",
              "          [0.8271, 0.4371, 0.3148,  ..., 0.7701, 0.9611, 0.4281],\n",
              "          [0.3480, 0.1786, 0.4902,  ..., 0.5320, 0.6212, 0.6421]]]),\n",
              " torch.Size([3, 224, 224]))"
            ]
          },
          "metadata": {},
          "execution_count": 69
        }
      ]
    },
    {
      "cell_type": "code",
      "source": [
        "#Indexing\n",
        "import torch\n",
        "x = torch.arange(1, 10).reshape(1, 3, 3)\n",
        "x, x.shape"
      ],
      "metadata": {
        "id": "jaLBbquucUrq",
        "colab": {
          "base_uri": "https://localhost:8080/"
        },
        "outputId": "95c66ca8-38f0-45a8-cdff-4700c22d6d17"
      },
      "execution_count": null,
      "outputs": [
        {
          "output_type": "execute_result",
          "data": {
            "text/plain": [
              "(tensor([[[1, 2, 3],\n",
              "          [4, 5, 6],\n",
              "          [7, 8, 9]]]),\n",
              " torch.Size([1, 3, 3]))"
            ]
          },
          "metadata": {},
          "execution_count": 2
        }
      ]
    },
    {
      "cell_type": "code",
      "source": [
        "x[0]"
      ],
      "metadata": {
        "colab": {
          "base_uri": "https://localhost:8080/"
        },
        "id": "xIiLGas5MEZt",
        "outputId": "50980c78-6ef2-419f-b850-82595efc31ac"
      },
      "execution_count": null,
      "outputs": [
        {
          "output_type": "execute_result",
          "data": {
            "text/plain": [
              "tensor([[1, 2, 3],\n",
              "        [4, 5, 6],\n",
              "        [7, 8, 9]])"
            ]
          },
          "metadata": {},
          "execution_count": 3
        }
      ]
    },
    {
      "cell_type": "code",
      "source": [
        "x[0, 0, 0]"
      ],
      "metadata": {
        "colab": {
          "base_uri": "https://localhost:8080/"
        },
        "id": "piDvW2kCMYCr",
        "outputId": "996de153-8eb3-4350-aa14-5a8d548ab4d7"
      },
      "execution_count": null,
      "outputs": [
        {
          "output_type": "execute_result",
          "data": {
            "text/plain": [
              "tensor(1)"
            ]
          },
          "metadata": {},
          "execution_count": 9
        }
      ]
    },
    {
      "cell_type": "code",
      "source": [
        "#Use ':' to select 'all'\n",
        "x[:, :, 2]"
      ],
      "metadata": {
        "colab": {
          "base_uri": "https://localhost:8080/"
        },
        "id": "nC5mvbsaMbCH",
        "outputId": "6ece1ce2-c0d0-42ab-b8b3-8a00412aa2e1"
      },
      "execution_count": null,
      "outputs": [
        {
          "output_type": "execute_result",
          "data": {
            "text/plain": [
              "tensor([[3, 6, 9]])"
            ]
          },
          "metadata": {},
          "execution_count": 10
        }
      ]
    },
    {
      "cell_type": "code",
      "source": [
        "#NumPy\n",
        "\n",
        "import torch\n",
        "import numpy as np\n",
        "\n",
        "array = np.arange(1.0, 8.0)\n",
        "tensor = torch.from_numpy(array)\n",
        "array, tensor"
      ],
      "metadata": {
        "colab": {
          "base_uri": "https://localhost:8080/"
        },
        "id": "g1FoIpfiNGbr",
        "outputId": "0e5c3e57-359f-4905-93dd-11fd06be5cb4"
      },
      "execution_count": null,
      "outputs": [
        {
          "output_type": "execute_result",
          "data": {
            "text/plain": [
              "(array([1., 2., 3., 4., 5., 6., 7.]),\n",
              " tensor([1., 2., 3., 4., 5., 6., 7.], dtype=torch.float64))"
            ]
          },
          "metadata": {},
          "execution_count": 11
        }
      ]
    },
    {
      "cell_type": "code",
      "source": [
        "tensor_orig = torch.ones(7)\n",
        "tensor_numpy = tensor_orig.numpy()\n",
        "tensor_numpy"
      ],
      "metadata": {
        "colab": {
          "base_uri": "https://localhost:8080/"
        },
        "id": "xfGNQxlAO2l8",
        "outputId": "695c49b7-5ed3-4e54-e98b-65c542540557"
      },
      "execution_count": null,
      "outputs": [
        {
          "output_type": "execute_result",
          "data": {
            "text/plain": [
              "array([1., 1., 1., 1., 1., 1., 1.], dtype=float32)"
            ]
          },
          "metadata": {},
          "execution_count": 13
        }
      ]
    },
    {
      "cell_type": "markdown",
      "source": [
        "To reduce the randomness in neural networks and Pytorch comes the concept of a random seed\n",
        "\n",
        "Essentially what the random seed does is 'flavour' the randomness"
      ],
      "metadata": {
        "id": "wz6SEeIHRLPk"
      }
    },
    {
      "cell_type": "code",
      "source": [
        "import torch\n",
        "\n",
        "tensor_randA = torch.rand(3, 4)\n",
        "tensor_randB = torch.rand(3, 4)\n",
        "\n",
        "print(tensor_randA)\n",
        "print(tensor_randB)\n",
        "print(tensor_randA == tensor_randB)"
      ],
      "metadata": {
        "colab": {
          "base_uri": "https://localhost:8080/"
        },
        "id": "bxhhAcnzQMtb",
        "outputId": "aab05c52-0958-4fb5-c8d7-a09eec89eb12"
      },
      "execution_count": null,
      "outputs": [
        {
          "output_type": "stream",
          "name": "stdout",
          "text": [
            "tensor([[0.5779, 0.9040, 0.5547, 0.3423],\n",
            "        [0.6343, 0.3644, 0.7104, 0.9464],\n",
            "        [0.7890, 0.2814, 0.7886, 0.5895]])\n",
            "tensor([[0.7539, 0.1952, 0.0050, 0.3068],\n",
            "        [0.1165, 0.9103, 0.6440, 0.7071],\n",
            "        [0.6581, 0.4913, 0.8913, 0.1447]])\n",
            "tensor([[False, False, False, False],\n",
            "        [False, False, False, False],\n",
            "        [False, False, False, False]])\n"
          ]
        }
      ]
    },
    {
      "cell_type": "code",
      "source": [
        "RANDOM_SEED = 42 # any number\n",
        "torch.manual_seed(RANDOM_SEED)\n",
        "tensor_randC = torch.rand(3, 4)\n",
        "\n",
        "tensor_randD = torch.rand(3, 4)\n",
        "\n",
        "print(tensor_randC)\n",
        "print(tensor_randD)\n",
        "print(tensor_randC == tensor_randD)"
      ],
      "metadata": {
        "colab": {
          "base_uri": "https://localhost:8080/"
        },
        "id": "ER1-kqmmSfdJ",
        "outputId": "1c02dd97-cf26-4181-b631-15d67b5856cc"
      },
      "execution_count": null,
      "outputs": [
        {
          "output_type": "stream",
          "name": "stdout",
          "text": [
            "tensor([[0.8823, 0.9150, 0.3829, 0.9593],\n",
            "        [0.3904, 0.6009, 0.2566, 0.7936],\n",
            "        [0.9408, 0.1332, 0.9346, 0.5936]])\n",
            "tensor([[0.8823, 0.9150, 0.3829, 0.9593],\n",
            "        [0.3904, 0.6009, 0.2566, 0.7936],\n",
            "        [0.9408, 0.1332, 0.9346, 0.5936]])\n",
            "tensor([[True, True, True, True],\n",
            "        [True, True, True, True],\n",
            "        [True, True, True, True]])\n"
          ]
        }
      ]
    },
    {
      "cell_type": "code",
      "source": [
        "RANDOM_SEED = 42 # any number\n",
        "torch.manual_seed(RANDOM_SEED)\n",
        "tensor_randC = torch.rand(3, 4)\n",
        "#нужно прописывать к каждому тензору чтобы было одинакого\n",
        "torch.manual_seed(RANDOM_SEED)\n",
        "tensor_randD = torch.rand(3, 4)\n",
        "\n",
        "print(tensor_randC)\n",
        "print(tensor_randD)\n",
        "print(tensor_randC == tensor_randD)"
      ],
      "metadata": {
        "colab": {
          "base_uri": "https://localhost:8080/"
        },
        "id": "u3aDPgZtRDqv",
        "outputId": "1882456b-3143-4060-f870-6b72f88e79b5"
      },
      "execution_count": null,
      "outputs": [
        {
          "output_type": "stream",
          "name": "stdout",
          "text": [
            "tensor([[0.8823, 0.9150, 0.3829, 0.9593],\n",
            "        [0.3904, 0.6009, 0.2566, 0.7936],\n",
            "        [0.9408, 0.1332, 0.9346, 0.5936]])\n",
            "tensor([[0.8823, 0.9150, 0.3829, 0.9593],\n",
            "        [0.3904, 0.6009, 0.2566, 0.7936],\n",
            "        [0.9408, 0.1332, 0.9346, 0.5936]])\n",
            "tensor([[True, True, True, True],\n",
            "        [True, True, True, True],\n",
            "        [True, True, True, True]])\n"
          ]
        }
      ]
    },
    {
      "cell_type": "markdown",
      "source": [
        "#Running tensors and Pytorch objects on the GPUs (and making faster computations)\n",
        "\n",
        "1. Getting a GPU\n",
        "\n",
        " - Using a google colab for a free GPU\n",
        " - Use ur own\n",
        " - Use cloud computing - GCP, AWS, Azure, these allow u to rent computers on the cloud and access them\n",
        "\n",
        " 2. Check for GPU access with Pytorch\n",
        "\n",
        " - torch.cuda.is_available()\n",
        " - setup device agnostic code:\n",
        "    device = 'cuda' if torch.cuda.is_available else 'cpu'\n"
      ],
      "metadata": {
        "id": "nrKeiKMmV308"
      }
    },
    {
      "cell_type": "code",
      "source": [
        "import torch\n",
        "torch.cuda.is_available()\n"
      ],
      "metadata": {
        "colab": {
          "base_uri": "https://localhost:8080/"
        },
        "id": "SMB8QMNwX2pq",
        "outputId": "8cd3ee87-33d7-44ca-e566-613ed146ea4e"
      },
      "execution_count": null,
      "outputs": [
        {
          "output_type": "execute_result",
          "data": {
            "text/plain": [
              "True"
            ]
          },
          "metadata": {},
          "execution_count": 5
        }
      ]
    },
    {
      "cell_type": "code",
      "source": [
        "device = 'cuda' if torch.cuda.is_available else 'cpu'\n",
        "device\n",
        "\n",
        "torch.cuda.device_count()"
      ],
      "metadata": {
        "colab": {
          "base_uri": "https://localhost:8080/"
        },
        "id": "yDv_S89VZDYM",
        "outputId": "af911a71-de46-4db0-b465-af1f0eb313b8"
      },
      "execution_count": null,
      "outputs": [
        {
          "output_type": "execute_result",
          "data": {
            "text/plain": [
              "1"
            ]
          },
          "metadata": {},
          "execution_count": 7
        }
      ]
    },
    {
      "cell_type": "markdown",
      "source": [
        "#Putting tensors and models on the GPU\n",
        "\n",
        "The reason we want our tensors/models on the GPU is because using a GPU results in faster computations"
      ],
      "metadata": {
        "id": "_j_3s-UeZkhl"
      }
    },
    {
      "cell_type": "code",
      "source": [
        "#create a tensor (default on CPU)\n",
        "\n",
        "tensor = torch.tensor([1,2,3])\n",
        "print(tensor, tensor.device)"
      ],
      "metadata": {
        "colab": {
          "base_uri": "https://localhost:8080/"
        },
        "id": "wiQ3_YoQa61h",
        "outputId": "ad7ea086-9ed2-497a-a476-53488b62ec7d"
      },
      "execution_count": null,
      "outputs": [
        {
          "output_type": "stream",
          "name": "stdout",
          "text": [
            "tensor([1, 2, 3]) cpu\n"
          ]
        }
      ]
    },
    {
      "cell_type": "code",
      "source": [
        "#Move tensor to GPU if available\n",
        "device = 'cuda' if torch.cuda.is_available else 'cpu'\n",
        "tensor_on_gpu = tensor.to(device)\n",
        "tensor_on_gpu"
      ],
      "metadata": {
        "colab": {
          "base_uri": "https://localhost:8080/"
        },
        "id": "xtR8TfvLbRZ9",
        "outputId": "7f990ee0-c68e-470a-e452-cbe78cb176cd"
      },
      "execution_count": null,
      "outputs": [
        {
          "output_type": "execute_result",
          "data": {
            "text/plain": [
              "tensor([1, 2, 3], device='cuda:0')"
            ]
          },
          "metadata": {},
          "execution_count": 13
        }
      ]
    },
    {
      "cell_type": "code",
      "source": [
        "#if tensor is on GPU, can't transform it to Numpy\n",
        "#tensor_on_gpu.numpy()\n",
        "#error\n",
        "\n",
        "tensor_back_on_cpu = tensor_on_gpu.cpu().numpy()\n",
        "tensor_back_on_cpu"
      ],
      "metadata": {
        "colab": {
          "base_uri": "https://localhost:8080/"
        },
        "id": "pHM-5EkZdHNq",
        "outputId": "3f397747-ecf5-46ee-d0d9-cceaa053bdef"
      },
      "execution_count": null,
      "outputs": [
        {
          "output_type": "execute_result",
          "data": {
            "text/plain": [
              "array([1, 2, 3])"
            ]
          },
          "metadata": {},
          "execution_count": 16
        }
      ]
    },
    {
      "cell_type": "code",
      "source": [],
      "metadata": {
        "id": "XXCb5QegdOgF"
      },
      "execution_count": null,
      "outputs": []
    }
  ]
}